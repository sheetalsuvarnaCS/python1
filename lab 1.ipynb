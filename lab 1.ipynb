{
 "cells": [
  {
   "cell_type": "code",
   "execution_count": 3,
   "id": "0ed477bc",
   "metadata": {},
   "outputs": [
    {
     "name": "stdout",
     "output_type": "stream",
     "text": [
      "enter a number: 10\n",
      "Fibonacci series:  0 1 1 2 3 5 8 13 21 34 "
     ]
    }
   ],
   "source": [
    "num = int(input(\"enter a number: \"))\n",
    "first_number = 0\n",
    "second_number = 1\n",
    "if num<= 0:\n",
    "    print(\" please enter positive number \")\n",
    "elif num==1:\n",
    "        print(\"Fibonacci series:\",first_number)\n",
    "else:\n",
    "    print(\"Fibonacci series: \", first_number,second_number,end=' ')\n",
    "for i in range(2,num):\n",
    "    next_number = first_number + second_number\n",
    "    first_number = second_number\n",
    "    second_number = next_number\n",
    "    print(next_number,end= ' ')\n",
    "    "
   ]
  },
  {
   "cell_type": "code",
   "execution_count": null,
   "id": "fd93968c",
   "metadata": {},
   "outputs": [],
   "source": []
  }
 ],
 "metadata": {
  "kernelspec": {
   "display_name": "Python 3 (ipykernel)",
   "language": "python",
   "name": "python3"
  },
  "language_info": {
   "codemirror_mode": {
    "name": "ipython",
    "version": 3
   },
   "file_extension": ".py",
   "mimetype": "text/x-python",
   "name": "python",
   "nbconvert_exporter": "python",
   "pygments_lexer": "ipython3",
   "version": "3.9.13"
  }
 },
 "nbformat": 4,
 "nbformat_minor": 5
}
